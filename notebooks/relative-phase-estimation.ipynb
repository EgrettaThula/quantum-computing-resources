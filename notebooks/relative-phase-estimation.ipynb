{
 "cells": [
  {
   "cell_type": "markdown",
   "metadata": {},
   "source": [
    "This notebook implements the idea provided as an answer to a [question](https://quantumcomputing.stackexchange.com/q/34432/9474) in quantum computing StackExchange about getting the relative phase of a certain basis state $|k\\rangle$ in a given quantum state\n",
    "$$|\\psi\\rangle = r_0|0\\rangle + r_1e^{i\\theta_1}|1\\rangle + r_2e^{i\\theta_2}|2\\rangle + \\ldots + r_k e^{i\\theta_k}|k\\rangle + \\ldots + r_{t-1}e^{i\\theta_{t - 1}}|t-1\\rangle $$"
   ]
  },
  {
   "cell_type": "code",
   "execution_count": 1,
   "metadata": {},
   "outputs": [],
   "source": [
    "from qiskit import QuantumCircuit\n",
    "from qiskit.quantum_info import Statevector\n",
    "import numpy as np"
   ]
  },
  {
   "cell_type": "code",
   "execution_count": 2,
   "metadata": {},
   "outputs": [],
   "source": [
    "def construct_hadamard_test_circuit(init_circ, operator, imaginary=False):\n",
    "    num_qubits = init_circ.num_qubits\n",
    "    op_circ = QuantumCircuit(num_qubits)\n",
    "    op_circ.unitary(operator, range(num_qubits))\n",
    "\n",
    "    h_test = QuantumCircuit(num_qubits + 1)\n",
    "    h_test.append(init.to_gate(label='    $\\psi$    '), range(1, num_qubits + 1))\n",
    "    h_test.barrier()\n",
    "    h_test.h(0)\n",
    "    if imaginary:\n",
    "        h_test.sdg(0)\n",
    "    h_test.append(op_circ.to_gate(label='$U(u_{00}, u_{0k}, u_{k0}, u_{kk})$').control(1), range(num_qubits + 1))\n",
    "    h_test.h(0)\n",
    "    return h_test"
   ]
  },
  {
   "cell_type": "code",
   "execution_count": 3,
   "metadata": {},
   "outputs": [],
   "source": [
    "from qiskit import ClassicalRegister, transpile\n",
    "from qiskit_aer import AerSimulator\n",
    "\n",
    "SHOTS = 1000000\n",
    "\n",
    "def get_prop(circ, sample=False):\n",
    "    if sample:\n",
    "        simulator = AerSimulator()\n",
    "        if circ.num_clbits == 0:\n",
    "            cr_aux = ClassicalRegister(1, \"aux\")\n",
    "            circ.add_bits(cr_aux)\n",
    "            circ.measure(0, 0)\n",
    "        circ = transpile(circ, backend=simulator)\n",
    "        job = simulator.run(circ, shots=SHOTS)\n",
    "        return job.result().get_counts()['0'] / SHOTS\n",
    "    else:\n",
    "        return Statevector.from_label('0' * (circ.num_qubits)).evolve(circ).probabilities([0])[0]"
   ]
  },
  {
   "cell_type": "code",
   "execution_count": 4,
   "metadata": {},
   "outputs": [],
   "source": [
    "def get_operator(n, k, a, b, c, d):\n",
    "    op = np.eye(2 ** n)\n",
    "    op[0][0] = a\n",
    "    op[0][k] = b\n",
    "    op[k][0] = c\n",
    "    op[k][k] = d\n",
    "    return op"
   ]
  },
  {
   "cell_type": "code",
   "execution_count": 6,
   "metadata": {},
   "outputs": [
    {
     "data": {
      "text/latex": [
       "$$\\frac{1}{4} |0000\\rangle+\\frac{1}{4} |0001\\rangle+\\frac{1}{4} |0010\\rangle+\\frac{1}{4} |0011\\rangle+\\frac{1}{4} |0100\\rangle+(0.125 + 0.2165063509 i) |0101\\rangle + \\ldots +\\frac{1}{4} |1011\\rangle+\\frac{1}{4} |1100\\rangle+\\frac{1}{4} |1101\\rangle+\\frac{1}{4} |1110\\rangle+\\frac{1}{4} |1111\\rangle$$"
      ],
      "text/plain": [
       "<IPython.core.display.Latex object>"
      ]
     },
     "execution_count": 6,
     "metadata": {},
     "output_type": "execute_result"
    }
   ],
   "source": [
    "n = 4 # number of qubits\n",
    "k = 5 # |k⟩ is the basis state that we will try to get its phase\n",
    "theta = np.pi / 3 # phase angle\n",
    "\n",
    "k_bitstring = format(k, \"#0\" + str(n + 2) + \"b\").replace(\"0b\", \"\")\n",
    "\n",
    "init = QuantumCircuit(n)\n",
    "init.h(range(n))\n",
    "for idx, bit in enumerate(k_bitstring):\n",
    "    if bit == \"0\":\n",
    "        init.x(n - idx - 1, bit)\n",
    "init.mcp(theta, list(range(n - 1)), n - 1)\n",
    "for idx, bit in enumerate(k_bitstring):\n",
    "    if bit == \"0\":\n",
    "        init.x(n - idx - 1, bit)\n",
    "\n",
    "psi = Statevector.from_instruction(init)\n",
    "psi.draw('latex')"
   ]
  },
  {
   "cell_type": "code",
   "execution_count": 7,
   "metadata": {},
   "outputs": [],
   "source": [
    "alpha = 0.6\n",
    "beta = 0.8"
   ]
  },
  {
   "cell_type": "code",
   "execution_count": 8,
   "metadata": {},
   "outputs": [
    {
     "name": "stdout",
     "output_type": "stream",
     "text": [
      "x1 = 0.9500000000000028\n"
     ]
    }
   ],
   "source": [
    "U_1 = get_operator(n, k, alpha, beta, -beta, alpha)\n",
    "circ = construct_hadamard_test_circuit(init, U_1)\n",
    "x1 = 2 * get_prop(circ) - 1\n",
    "print('x1 =', x1)"
   ]
  },
  {
   "cell_type": "code",
   "execution_count": 9,
   "metadata": {},
   "outputs": [
    {
     "data": {
      "image/png": "[encoded data removed]",
      "text/plain": [
       "<Figure size 872.774x451.5 with 1 Axes>"
      ]
     },
     "execution_count": 9,
     "metadata": {},
     "output_type": "execute_result"
    }
   ],
   "source": [
    "circ.draw('mpl', style='textbook')"
   ]
  },
  {
   "cell_type": "code",
   "execution_count": 10,
   "metadata": {},
   "outputs": [
    {
     "data": {
      "text/latex": [
       "$$\n",
       "\n",
       "\\begin{bmatrix}\n",
       "\\frac{3}{5} & 0 & 0 & 0 & 0 & \\frac{4}{5} & 0 & 0 & 0 & 0 & 0 & 0 & 0 & 0 & 0 & 0  \\\\\n",
       " 0 & 1 & 0 & 0 & 0 & 0 & 0 & 0 & 0 & 0 & 0 & 0 & 0 & 0 & 0 & 0  \\\\\n",
       " 0 & 0 & 1 & 0 & 0 & 0 & 0 & 0 & 0 & 0 & 0 & 0 & 0 & 0 & 0 & 0  \\\\\n",
       " 0 & 0 & 0 & 1 & 0 & 0 & 0 & 0 & 0 & 0 & 0 & 0 & 0 & 0 & 0 & 0  \\\\\n",
       " 0 & 0 & 0 & 0 & 1 & 0 & 0 & 0 & 0 & 0 & 0 & 0 & 0 & 0 & 0 & 0  \\\\\n",
       " - \\frac{4}{5} & 0 & 0 & 0 & 0 & \\frac{3}{5} & 0 & 0 & 0 & 0 & 0 & 0 & 0 & 0 & 0 & 0  \\\\\n",
       " 0 & 0 & 0 & 0 & 0 & 0 & 1 & 0 & 0 & 0 & 0 & 0 & 0 & 0 & 0 & 0  \\\\\n",
       " 0 & 0 & 0 & 0 & 0 & 0 & 0 & 1 & 0 & 0 & 0 & 0 & 0 & 0 & 0 & 0  \\\\\n",
       " 0 & 0 & 0 & 0 & 0 & 0 & 0 & 0 & 1 & 0 & 0 & 0 & 0 & 0 & 0 & 0  \\\\\n",
       " 0 & 0 & 0 & 0 & 0 & 0 & 0 & 0 & 0 & 1 & 0 & 0 & 0 & 0 & 0 & 0  \\\\\n",
       " 0 & 0 & 0 & 0 & 0 & 0 & 0 & 0 & 0 & 0 & 1 & 0 & 0 & 0 & 0 & 0  \\\\\n",
       " 0 & 0 & 0 & 0 & 0 & 0 & 0 & 0 & 0 & 0 & 0 & 1 & 0 & 0 & 0 & 0  \\\\\n",
       " 0 & 0 & 0 & 0 & 0 & 0 & 0 & 0 & 0 & 0 & 0 & 0 & 1 & 0 & 0 & 0  \\\\\n",
       " 0 & 0 & 0 & 0 & 0 & 0 & 0 & 0 & 0 & 0 & 0 & 0 & 0 & 1 & 0 & 0  \\\\\n",
       " 0 & 0 & 0 & 0 & 0 & 0 & 0 & 0 & 0 & 0 & 0 & 0 & 0 & 0 & 1 & 0  \\\\\n",
       " 0 & 0 & 0 & 0 & 0 & 0 & 0 & 0 & 0 & 0 & 0 & 0 & 0 & 0 & 0 & 1  \\\\\n",
       " \\end{bmatrix}\n",
       "$$"
      ],
      "text/plain": [
       "<IPython.core.display.Latex object>"
      ]
     },
     "execution_count": 10,
     "metadata": {},
     "output_type": "execute_result"
    }
   ],
   "source": [
    "from qiskit.visualization import array_to_latex\n",
    "\n",
    "array_to_latex(U_1, max_size=2 ** n)"
   ]
  },
  {
   "cell_type": "code",
   "execution_count": 11,
   "metadata": {},
   "outputs": [
    {
     "name": "stdout",
     "output_type": "stream",
     "text": [
      "y1 = 0.08660254037844117\n"
     ]
    }
   ],
   "source": [
    "circ = construct_hadamard_test_circuit(init, U_1, True)\n",
    "y1 = 2 * get_prop(circ) - 1\n",
    "print('y1 =', y1)"
   ]
  },
  {
   "cell_type": "code",
   "execution_count": 12,
   "metadata": {},
   "outputs": [
    {
     "name": "stdout",
     "output_type": "stream",
     "text": [
      "x2 = 0.9250000000000003\n"
     ]
    }
   ],
   "source": [
    "U_2 = get_operator(n, k, alpha, beta, beta, -alpha)\n",
    "circ = construct_hadamard_test_circuit(init, U_2)\n",
    "x2 = 2 * get_prop(circ) - 1\n",
    "print('x2 =', x2)"
   ]
  },
  {
   "cell_type": "code",
   "execution_count": 13,
   "metadata": {},
   "outputs": [
    {
     "name": "stdout",
     "output_type": "stream",
     "text": [
      "x3 = 0.9750000000000028\n",
      "x4 = 0.9125000000000014\n"
     ]
    }
   ],
   "source": [
    "U_3 = get_operator(n, k, beta, alpha, -alpha, beta)\n",
    "circ = construct_hadamard_test_circuit(init, U_3)\n",
    "x3 = 2 * get_prop(circ) - 1\n",
    "print('x3 =', x3)\n",
    "\n",
    "U_4 = get_operator(n, k, beta, alpha, alpha, -beta)\n",
    "circ = construct_hadamard_test_circuit(init, U_4)\n",
    "x4 = 2 * get_prop(circ) - 1\n",
    "print('x4 =', x4)"
   ]
  },
  {
   "cell_type": "code",
   "execution_count": 14,
   "metadata": {},
   "outputs": [
    {
     "name": "stdout",
     "output_type": "stream",
     "text": [
      "r = 0.24999999999999822\n",
      "theta = 1.0471975511966158\n"
     ]
    }
   ],
   "source": [
    "r_squared = (beta * (x3 - x4) - alpha * (x1 - x2)) / (beta * beta - alpha * alpha) / 2\n",
    "print('r =', np.sqrt(r_squared))\n",
    "\n",
    "tan_theta = y1 / (2 * alpha * r_squared - (x1- x2))\n",
    "print('theta =', np.arctan(tan_theta))"
   ]
  }
 ],
 "metadata": {
  "kernelspec": {
   "display_name": "qiskit",
   "language": "python",
   "name": "python3"
  },
  "language_info": {
   "codemirror_mode": {
    "name": "ipython",
    "version": 3
   },
   "file_extension": ".py",
   "mimetype": "text/x-python",
   "name": "python",
   "nbconvert_exporter": "python",
   "pygments_lexer": "ipython3",
   "version": "3.11.3"
  },
  "orig_nbformat": 4
 },
 "nbformat": 4,
 "nbformat_minor": 2
}
